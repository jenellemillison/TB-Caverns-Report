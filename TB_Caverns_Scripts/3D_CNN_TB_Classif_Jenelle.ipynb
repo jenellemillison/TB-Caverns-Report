{
  "nbformat": 4,
  "nbformat_minor": 0,
  "metadata": {
    "colab": {
      "name": "3D_CNN_TB_Classif.ipynb",
      "provenance": [],
      "collapsed_sections": []
    },
    "kernelspec": {
      "name": "python3",
      "display_name": "Python 3"
    },
    "language_info": {
      "name": "python"
    },
    "accelerator": "GPU"
  },
  "cells": [
    {
      "cell_type": "markdown",
      "source": [
        "#Using a 3D-CNN to Detect Indicators of Tuberculosis (TB) Relapse"
      ],
      "metadata": {
        "id": "WDe_a0ROyGDk"
      }
    },
    {
      "cell_type": "markdown",
      "source": [
        "Install Dependencies\n",
        "\n",
        "*   tflearn for the model\n",
        "*   nibabel to extract data from the compressed medical files (.nii.gz files)\n",
        "\n"
      ],
      "metadata": {
        "id": "wFlxEZBUySSi"
      }
    },
    {
      "cell_type": "code",
      "source": [
        "!pip install tflearn\n",
        "!pip install nibabel"
      ],
      "metadata": {
        "colab": {
          "base_uri": "https://localhost:8080/"
        },
        "id": "vOS46GytIkq-",
        "outputId": "d9338868-e42b-4c2c-e603-2362995ec8d0"
      },
      "execution_count": 7,
      "outputs": [
        {
          "output_type": "stream",
          "name": "stdout",
          "text": [
            "Requirement already satisfied: tflearn in /usr/local/lib/python3.7/dist-packages (0.5.0)\n",
            "Requirement already satisfied: numpy in /usr/local/lib/python3.7/dist-packages (from tflearn) (1.21.6)\n",
            "Requirement already satisfied: Pillow in /usr/local/lib/python3.7/dist-packages (from tflearn) (7.1.2)\n",
            "Requirement already satisfied: six in /usr/local/lib/python3.7/dist-packages (from tflearn) (1.15.0)\n",
            "Requirement already satisfied: nibabel in /usr/local/lib/python3.7/dist-packages (3.0.2)\n",
            "Requirement already satisfied: numpy>=1.12 in /usr/local/lib/python3.7/dist-packages (from nibabel) (1.21.6)\n"
          ]
        }
      ]
    },
    {
      "cell_type": "markdown",
      "source": [
        "#Data Preprocessing - Make Images 50x50x20 (3D imgs)"
      ],
      "metadata": {
        "id": "dmOd7TiGLX4D"
      }
    },
    {
      "cell_type": "code",
      "source": [
        "#mount drive\n",
        "from google.colab import drive\n",
        "drive.mount('/content/drive')"
      ],
      "metadata": {
        "colab": {
          "base_uri": "https://localhost:8080/"
        },
        "id": "poutJeR-UHTn",
        "outputId": "4dd361cb-bfd8-43b2-f1d5-a51ef423368b"
      },
      "execution_count": 8,
      "outputs": [
        {
          "output_type": "stream",
          "name": "stdout",
          "text": [
            "Drive already mounted at /content/drive; to attempt to forcibly remount, call drive.mount(\"/content/drive\", force_remount=True).\n"
          ]
        }
      ]
    },
    {
      "cell_type": "code",
      "source": [
        "#import necessary modules\n",
        "import numpy as np\n",
        "import pandas as pd\n",
        "import os\n",
        "import matplotlib.pyplot as plt\n",
        "import cv2\n",
        "import math\n",
        "import nibabel as nib\n",
        "\n",
        "#import tensorflow as tf\n",
        "#depricate tensorflow\n",
        "import tensorflow.compat.v1 as tf\n",
        "tf.disable_v2_behavior()\n",
        "import tflearn\n",
        "from tensorflow import keras\n",
        "from tflearn.layers.conv import conv_3d, max_pool_3d\n",
        "from tflearn.layers.core import input_data, dropout, fully_connected"
      ],
      "metadata": {
        "id": "OoiVhB8cB3Yc"
      },
      "execution_count": 9,
      "outputs": []
    },
    {
      "cell_type": "markdown",
      "source": [
        "Enter User Parameters"
      ],
      "metadata": {
        "id": "jkeniCUDyzrn"
      }
    },
    {
      "cell_type": "code",
      "source": [
        "dataDirectory = 'drive/MyDrive/Colab Notebooks/Artificial Intelligence/TB_Caverns_Data/' #@param\n",
        "lungPatients = os.listdir(dataDirectory)\n",
        "labelCSVFile = 'drive/MyDrive/Colab Notebooks/Artificial Intelligence/TB_Caverns_Data/TB_y_train.csv' #@param\n",
        "labels = pd.read_csv(labelCSVFile, index_col=0)\n",
        "size = 50 #@param\n",
        "NoSlices = 20 #@param"
      ],
      "metadata": {
        "id": "_cif1Ri3aU1Y"
      },
      "execution_count": 10,
      "outputs": []
    },
    {
      "cell_type": "markdown",
      "source": [
        "The following code is modified from: https://github.com/AshwanthRamji/Lung-Cancer-Detection-Using-3D-Convolutional-Neural-Networks\n",
        "Which is a model proposed in the paper: https://drive.google.com/file/d/15fw8Gd1zrWg8szENRk6FuwVDNPhDUfgo/view\n"
      ],
      "metadata": {
        "id": "smNynaNXj-n6"
      }
    },
    {
      "cell_type": "code",
      "source": [
        "#separate the image slices into chunks so that one image can be taken from each chunk to produce NoSlices images for the model\n",
        "def chunks(l, n):\n",
        "    count = 0\n",
        "    for i in range(0, len(l), n):\n",
        "        if (count < NoSlices):\n",
        "            yield l[i:i + n]\n",
        "            count = count + 1\n",
        "\n",
        "#take the average of list l\n",
        "def mean(l):\n",
        "    return sum(l) / len(l)\n",
        "\n",
        "#given a file, labels, size, and number of slices, take the given input and format it to be a 50x50x20 format\n",
        "def dataProcessing(patient_file, labels_df, size=50, noslices=20, visualize=False):\n",
        "    #label can be 'thick_walls' 'has_calcification' 'foci_around'\n",
        "    chosen_label = 'thick_walls' #@param\n",
        "\n",
        "    #decompress the image files\n",
        "    patient_num = patient_file.rsplit('.')\n",
        "    label = labels_df.loc[patient_num[0]][chosen_label]\n",
        "    patient_abs_path = dataDirectory + patient_file\n",
        "    imgs = nib.load(patient_abs_path)\n",
        "    slices = []\n",
        "\n",
        "    #for each image slice in the decompressed file, try to save it into a list called slices\n",
        "    for slice in range(imgs.shape[2]):\n",
        "      try:\n",
        "        slices.append(imgs.get_fdata()[:,:,slice])\n",
        "      except:\n",
        "        print('skipped', patient_abs_path)\n",
        "        return None, -1\n",
        "    \n",
        "    #resize the slices to the user input\n",
        "    new_slices = []\n",
        "    slices = [cv2.resize(np.array(each_slice), (size, size)) for each_slice in slices]\n",
        "\n",
        "    #select NoSlices slices according to the user input\n",
        "    chunk_sizes = math.floor(len(slices) / noslices)\n",
        "    for slice_chunk in chunks(slices, chunk_sizes):\n",
        "        slice_chunk = list(map(mean, zip(*slice_chunk)))\n",
        "        new_slices.append(slice_chunk)\n",
        "\n",
        "    #create binary labels for the set of slices and return the data\n",
        "    if label == 1:\n",
        "        label = np.array([0, 1])\n",
        "    elif label == 0:\n",
        "        label = np.array([1, 0])\n",
        "    return np.array(new_slices), label\n",
        "\n",
        "#go through the file path and create data with labels for each of the compressed files\n",
        "imageData = []\n",
        "for patient in enumerate(lungPatients):\n",
        "    #print(patient[1])\n",
        "    try:\n",
        "        img_data, label = dataProcessing(patient[1], labels, size=size, noslices=NoSlices)\n",
        "        #print('img_data', img_data)\n",
        "        if(not img_data is None):\n",
        "          imageData.append([img_data, label,patient])\n",
        "    except KeyError as e:\n",
        "        print('Data is unlabeled')\n",
        "\n",
        "#save the uncompressed data with labels\n",
        "np.save('imageDataNew-{}-{}-{}.npy'.format(size, size, NoSlices), imageData)"
      ],
      "metadata": {
        "colab": {
          "base_uri": "https://localhost:8080/"
        },
        "id": "fG8jEamXLWej",
        "outputId": "26386ce2-af38-4b50-d462-11955b8ba484"
      },
      "execution_count": 11,
      "outputs": [
        {
          "output_type": "stream",
          "name": "stdout",
          "text": [
            "Data is unlabeled\n",
            "skipped drive/MyDrive/Colab Notebooks/Artificial Intelligence/TB_Caverns_Data/TRN_16.nii.gz\n",
            "Data is unlabeled\n",
            "Data is unlabeled\n",
            "Data is unlabeled\n",
            "Data is unlabeled\n",
            "Data is unlabeled\n",
            "Data is unlabeled\n",
            "Data is unlabeled\n",
            "Data is unlabeled\n"
          ]
        },
        {
          "output_type": "stream",
          "name": "stderr",
          "text": [
            "/usr/local/lib/python3.7/dist-packages/numpy/lib/npyio.py:528: VisibleDeprecationWarning: Creating an ndarray from ragged nested sequences (which is a list-or-tuple of lists-or-tuples-or ndarrays with different lengths or shapes) is deprecated. If you meant to do this, you must specify 'dtype=object' when creating the ndarray.\n",
            "  arr = np.asanyarray(arr)\n"
          ]
        }
      ]
    },
    {
      "cell_type": "code",
      "execution_count": 12,
      "metadata": {
        "colab": {
          "base_uri": "https://localhost:8080/",
          "height": 1000
        },
        "id": "r7fvx4_lWjT7",
        "outputId": "edbddd2c-77fe-4c05-8583-6b72e018c1ff"
      },
      "outputs": [
        {
          "output_type": "stream",
          "name": "stdout",
          "text": [
            "Epoch 1 completed out of 50 loss: 2216681814016.0\n",
            "Accuracy: 0.9\n",
            "Epoch 2 completed out of 50 loss: 1258145533952.0\n",
            "Accuracy: 0.9\n",
            "Epoch 3 completed out of 50 loss: 632037867776.0\n",
            "Accuracy: 0.9\n",
            "Epoch 4 completed out of 50 loss: 1139177777152.0\n",
            "Accuracy: 0.9\n",
            "Epoch 5 completed out of 50 loss: 1158849536256.0\n",
            "Accuracy: 0.9\n",
            "Epoch 6 completed out of 50 loss: 441836603648.0\n",
            "Accuracy: 0.9\n",
            "Epoch 7 completed out of 50 loss: 427697866752.0\n",
            "Accuracy: 0.9\n",
            "Epoch 8 completed out of 50 loss: 393325130112.0\n",
            "Accuracy: 0.8\n",
            "Epoch 9 completed out of 50 loss: 296639291648.0\n",
            "Accuracy: 0.9\n",
            "Epoch 10 completed out of 50 loss: 121242032000.0\n",
            "Accuracy: 0.9\n",
            "Epoch 11 completed out of 50 loss: 224834885632.0\n",
            "Accuracy: 0.8\n",
            "Epoch 12 completed out of 50 loss: 145301703296.0\n",
            "Accuracy: 0.9\n",
            "Epoch 13 completed out of 50 loss: 140222885888.0\n",
            "Accuracy: 0.8\n",
            "Epoch 14 completed out of 50 loss: 151464769024.0\n",
            "Accuracy: 0.9\n",
            "Epoch 15 completed out of 50 loss: 104216701440.0\n",
            "Accuracy: 0.7\n",
            "Epoch 16 completed out of 50 loss: 161067094272.0\n",
            "Accuracy: 0.6\n",
            "Epoch 17 completed out of 50 loss: 83518464000.0\n",
            "Accuracy: 0.8\n",
            "Epoch 18 completed out of 50 loss: 92346609408.0\n",
            "Accuracy: 0.8\n",
            "Epoch 19 completed out of 50 loss: 47470540288.0\n",
            "Accuracy: 0.8\n",
            "Epoch 20 completed out of 50 loss: 155984281600.0\n",
            "Accuracy: 0.8\n",
            "Epoch 21 completed out of 50 loss: 89275387904.0\n",
            "Accuracy: 0.8\n",
            "Epoch 22 completed out of 50 loss: 29731317760.0\n",
            "Accuracy: 0.9\n",
            "Epoch 23 completed out of 50 loss: 76850679552.0\n",
            "Accuracy: 0.7\n",
            "Epoch 24 completed out of 50 loss: 87243946240.0\n",
            "Accuracy: 0.7\n",
            "Epoch 25 completed out of 50 loss: 35391849216.0\n",
            "Accuracy: 0.8\n",
            "Epoch 26 completed out of 50 loss: 9819699712.0\n",
            "Accuracy: 0.8\n",
            "Epoch 27 completed out of 50 loss: 2245967872.0\n",
            "Accuracy: 0.7\n",
            "Epoch 28 completed out of 50 loss: 50811718656.0\n",
            "Accuracy: 0.8\n",
            "Epoch 29 completed out of 50 loss: 16279675392.0\n",
            "Accuracy: 0.8\n",
            "Epoch 30 completed out of 50 loss: 22229331968.0\n",
            "Accuracy: 0.8\n",
            "Epoch 31 completed out of 50 loss: 11676985344.0\n",
            "Accuracy: 0.7\n",
            "Epoch 32 completed out of 50 loss: 3473346048.0\n",
            "Accuracy: 0.8\n",
            "Epoch 33 completed out of 50 loss: 0.0\n",
            "Accuracy: 0.9\n",
            "Epoch 34 completed out of 50 loss: 18354870272.0\n",
            "Accuracy: 0.9\n",
            "Epoch 35 completed out of 50 loss: 27671063552.0\n",
            "Accuracy: 0.7\n",
            "Epoch 36 completed out of 50 loss: 14829346432.0\n",
            "Accuracy: 0.9\n",
            "Epoch 37 completed out of 50 loss: 1418171904.0\n",
            "Accuracy: 0.9\n",
            "Epoch 38 completed out of 50 loss: 19712100864.0\n",
            "Accuracy: 0.7\n",
            "Epoch 39 completed out of 50 loss: 8950056960.0\n",
            "Accuracy: 0.9\n",
            "Epoch 40 completed out of 50 loss: 2236939008.0\n",
            "Accuracy: 0.8\n",
            "Epoch 41 completed out of 50 loss: 0.0\n",
            "Accuracy: 0.8\n",
            "Epoch 42 completed out of 50 loss: 12187127808.0\n",
            "Accuracy: 0.7\n",
            "Epoch 43 completed out of 50 loss: 10585332736.0\n",
            "Accuracy: 0.8\n",
            "Epoch 44 completed out of 50 loss: 0.0\n",
            "Accuracy: 0.8\n",
            "Epoch 45 completed out of 50 loss: 6762272064.0\n",
            "Accuracy: 0.9\n",
            "Epoch 46 completed out of 50 loss: 12620339968.0\n",
            "Accuracy: 0.6\n",
            "Epoch 47 completed out of 50 loss: 33082622464.0\n",
            "Accuracy: 0.8\n",
            "Epoch 48 completed out of 50 loss: 4291444224.0\n",
            "Accuracy: 0.8\n",
            "Epoch 49 completed out of 50 loss: 14073214976.0\n",
            "Accuracy: 0.9\n",
            "Epoch 50 completed out of 50 loss: 1046106112.0\n",
            "Accuracy: 0.9\n",
            "Final Accuracy: 0.8\n"
          ]
        },
        {
          "output_type": "display_data",
          "data": {
            "text/plain": [
              "<Figure size 432x288 with 1 Axes>"
            ],
            "image/png": "[encoded data removed]"
          },
          "metadata": {
            "needs_background": "light"
          }
        },
        {
          "output_type": "display_data",
          "data": {
            "text/plain": [
              "<Figure size 432x288 with 1 Axes>"
            ],
            "image/png": "[encoded data removed]"
          },
          "metadata": {
            "needs_background": "light"
          }
        },
        {
          "output_type": "stream",
          "name": "stdout",
          "text": [
            "Patient:  (39, 'TRN_54.nii.gz')\n",
            "Actual:  Not Detected\n",
            "Predcited:  Detected\n",
            "Patient:  (40, 'TRN_20.nii.gz')\n",
            "Actual:  Detected\n",
            "Predcited:  Detected\n",
            "Patient:  (41, 'TRN_04.nii.gz')\n",
            "Actual:  Detected\n",
            "Predcited:  Detected\n",
            "Patient:  (42, 'TRN_13.nii.gz')\n",
            "Actual:  Detected\n",
            "Predcited:  Detected\n",
            "Patient:  (43, 'TRN_09.nii.gz')\n",
            "Actual:  Detected\n",
            "Predcited:  Detected\n",
            "Patient:  (44, 'TRN_05.nii.gz')\n",
            "Actual:  Detected\n",
            "Predcited:  Detected\n",
            "Patient:  (45, 'TRN_22.nii.gz')\n",
            "Actual:  Detected\n",
            "Predcited:  Detected\n",
            "Patient:  (46, 'TRN_34.nii.gz')\n",
            "Actual:  Detected\n",
            "Predcited:  Detected\n",
            "Patient:  (47, 'TRN_46.nii.gz')\n",
            "Actual:  Detected\n",
            "Predcited:  Detected\n",
            "Patient:  (48, 'TRN_03.nii.gz')\n",
            "Actual:  Detected\n",
            "Predcited:  Detected\n",
            "Predicted  1\n",
            "Actual      \n",
            "0          1\n",
            "1          9\n"
          ]
        },
        {
          "output_type": "display_data",
          "data": {
            "text/plain": [
              "<Figure size 288x576 with 2 Axes>"
            ],
            "image/png": "[encoded data removed]"
          },
          "metadata": {
            "needs_background": "light"
          }
        }
      ],
      "source": [
        "#load the saved image data and split into 40 training, 10 validation, and 10 test\n",
        "imageData = np.load('imageDataNew-50-50-20.npy', allow_pickle=True)\n",
        "trainingData = imageData[0:40]\n",
        "validationData = imageData[-20:-10]\n",
        "testData = imageData[-10:]\n",
        "\n",
        "x = tf.placeholder('float')\n",
        "y = tf.placeholder('float')\n",
        "keep_rate = 0.8\n",
        "\n",
        "#define a 3d convolution\n",
        "def convolution3d(x, W):\n",
        "    return tf.nn.conv3d(x, W, strides=[1, 1, 1, 1, 1], padding='SAME')\n",
        "\n",
        "#define a 3d max pool\n",
        "def maxpooling3d(x):\n",
        "    return tf.nn.max_pool3d(x, ksize=[1, 2, 2, 2, 1], strides=[1, 2, 2, 2, 1], padding='SAME')\n",
        "\n",
        "#define the 3d-cnn architecture with 5 convolutions and fc layers\n",
        "def cnn(x):\n",
        "    x = tf.reshape(x, shape=[-1, size, size, NoSlices, 1])\n",
        "    convolution1 = tf.nn.relu(\n",
        "        convolution3d(x, tf.Variable(tf.random_normal([3, 3, 3, 1, 32]))) + tf.Variable(tf.random_normal([32])))\n",
        "    convolution1 = maxpooling3d(convolution1)\n",
        "    convolution2 = tf.nn.relu(\n",
        "        convolution3d(convolution1, tf.Variable(tf.random_normal([3, 3, 3, 32, 64]))) + tf.Variable(\n",
        "            tf.random_normal([64])))\n",
        "    convolution2 = maxpooling3d(convolution2)\n",
        "    convolution3 = tf.nn.relu(\n",
        "        convolution3d(convolution2, tf.Variable(tf.random_normal([3, 3, 3, 64, 128]))) + tf.Variable(\n",
        "            tf.random_normal([128])))\n",
        "    convolution3 = maxpooling3d(convolution3)\n",
        "    convolution4 = tf.nn.relu(\n",
        "        convolution3d(convolution3, tf.Variable(tf.random_normal([3, 3, 3, 128, 256]))) + tf.Variable(\n",
        "            tf.random_normal([256])))\n",
        "    convolution4 = maxpooling3d(convolution4)\n",
        "    convolution5 = tf.nn.relu(\n",
        "        convolution3d(convolution4, tf.Variable(tf.random_normal([3, 3, 3, 256, 512]))) + tf.Variable(\n",
        "            tf.random_normal([512])))\n",
        "    convolution5 = maxpooling3d(convolution4)\n",
        "    fullyconnected = tf.reshape(convolution5, [-1, 1024])\n",
        "    fullyconnected = tf.nn.relu(\n",
        "        tf.matmul(fullyconnected, tf.Variable(tf.random_normal([1024, 1024]))) + tf.Variable(tf.random_normal([1024])))\n",
        "    fullyconnected = tf.nn.dropout(fullyconnected, keep_rate)\n",
        "    output = tf.matmul(fullyconnected, tf.Variable(tf.random_normal([1024, 2]))) + tf.Variable(tf.random_normal([2]))\n",
        "    return output\n",
        "\n",
        "#train and test the network\n",
        "def network(x):\n",
        "    #dictionaries to save the validation and test accuracy and loss per epoch for a graph\n",
        "    val_accuracy_dict = {}\n",
        "    train_accuracy_dict = {}\n",
        "    train_loss_dict = {}\n",
        "    val_loss_dict = {}\n",
        "\n",
        "    #make an instance of the 3d-cnn architecture\n",
        "    prediction = cnn(x)\n",
        "\n",
        "    #the loss function is sigmoid_cross_entropy and the optimizer is adam - this has been modified from the original code\n",
        "    cost = tf.reduce_mean(tf.nn.sigmoid_cross_entropy_with_logits(logits=prediction, labels=y))\n",
        "    optimizer = tf.train.AdamOptimizer(learning_rate=1e-3).minimize(cost)\n",
        "    epochs = 50\n",
        "\n",
        "    #train the model\n",
        "    with tf.Session() as session:\n",
        "        session.run(tf.global_variables_initializer())\n",
        "        #calculate the loss per epoch\n",
        "        for epoch in range(epochs):\n",
        "            epoch_loss = 0\n",
        "            for data in trainingData:\n",
        "                try:\n",
        "                    X = data[0]\n",
        "                    Y = data[1]\n",
        "                    _, c = session.run([optimizer, cost], feed_dict={x: X, y: Y})\n",
        "                    epoch_loss += c\n",
        "                except Exception as e:\n",
        "                    pass\n",
        "\n",
        "            #calculate and print the accuracy and print the loss per epoch for the model\n",
        "            correct = tf.equal(tf.argmax(prediction, 1), tf.argmax(y, 1))\n",
        "            accuracy = tf.reduce_mean(tf.cast(correct, 'float'))\n",
        "            print('Epoch', epoch + 1, 'completed out of', epochs, 'loss:', epoch_loss)\n",
        "            train_loss_dict[epoch] = epoch_loss\n",
        "            val_accuracy_dict[epoch] = accuracy.eval({x: [i[0] for i in validationData], y: [i[1] for i in validationData]})\n",
        "            train_accuracy_dict[epoch] = accuracy.eval({x: [i[0] for i in trainingData], y: [i[1] for i in trainingData]})\n",
        "            print('Accuracy:', accuracy.eval({x: [i[0] for i in validationData], y: [i[1] for i in validationData]}))\n",
        "        print('Final Accuracy:', accuracy.eval({x: [i[0] for i in validationData], y: [i[1] for i in validationData]}))\n",
        "        patients = []\n",
        "        actual = []\n",
        "        predicted = []\n",
        "\n",
        "        #plot the training and validation loss and accuracy\n",
        "        plt.plot(list(train_accuracy_dict.keys()), list(train_accuracy_dict.values()))\n",
        "        plt.plot(list(val_accuracy_dict.keys()), list(val_accuracy_dict.values()))\n",
        "        plt.xlabel('Epochs')\n",
        "        plt.ylabel('Accuracy')\n",
        "        plt.title('Accuracy per Epoch')\n",
        "        plt.legend(['Training', 'Validation'])\n",
        "        plt.show()\n",
        "\n",
        "        plt.plot(list(train_loss_dict.keys()), list(train_loss_dict.values()))\n",
        "        plt.xlabel('Epochs')\n",
        "        plt.ylabel('Loss')\n",
        "        plt.title('Loss per Epoch')\n",
        "        plt.legend(['Training'])\n",
        "        plt.show()\n",
        "\n",
        "        #make predictions on the test dataset\n",
        "        finalprediction = tf.argmax(prediction, 1)\n",
        "        actualprediction = tf.argmax(y, 1)\n",
        "        for i in range(len(validationData)):\n",
        "            patients.append(validationData[i][2])\n",
        "        for i in finalprediction.eval({x: [i[0] for i in testData], y: [i[1] for i in testData]}):\n",
        "            if(i==1):\n",
        "                predicted.append(\"Detected\")\n",
        "            else:\n",
        "                predicted.append(\"Not Detected\")\n",
        "        for i in actualprediction.eval({x: [i[0] for i in testData], y: [i[1] for i in testData]}):\n",
        "            if(i==1):\n",
        "                actual.append(\"Detected\")\n",
        "            else:\n",
        "                actual.append(\"Not Detected\")\n",
        "        \n",
        "        #print out each prediction and result\n",
        "        for i in range(len(patients)):\n",
        "            print(\"Patient: \",patients[i])\n",
        "            print(\"Actual: \", actual[i])\n",
        "            print(\"Predcited: \", predicted[i])\n",
        "\n",
        "        #show the results from the test predictions with a confusion matrix\n",
        "        from sklearn.metrics import confusion_matrix\n",
        "        y_actual = pd.Series(\n",
        "            (actualprediction.eval({x: [i[0] for i in testData], y: [i[1] for i in testData]})),\n",
        "            name='Actual')\n",
        "        y_predicted = pd.Series(\n",
        "            (finalprediction.eval({x: [i[0] for i in testData], y: [i[1] for i in testData]})),\n",
        "            name='Predicted')\n",
        "        df_confusion = pd.crosstab(y_actual, y_predicted)\n",
        "        print(df_confusion)\n",
        "\n",
        "        def plot_confusion_matrix(df_confusion, title='Confusion matrix', cmap=plt.cm.gray_r):\\\n",
        "            \n",
        "            plt.matshow(df_confusion, cmap=cmap)  \n",
        "            plt.colorbar()\n",
        "            tick_marks = np.arange(len(df_confusion.columns))\n",
        "            plt.xticks(tick_marks, df_confusion.columns, rotation=45)\n",
        "            plt.yticks(tick_marks, df_confusion.index)\n",
        "            plt.ylabel(df_confusion.index.name)\n",
        "            plt.xlabel(df_confusion.columns.name)\n",
        "            plt.show()\n",
        "        plot_confusion_matrix(df_confusion)\n",
        "\n",
        "#train a network on the data labeled x (x includes train, test, and validation data and will be split within the network function)\n",
        "network(x)"
      ]
    }
  ]
}