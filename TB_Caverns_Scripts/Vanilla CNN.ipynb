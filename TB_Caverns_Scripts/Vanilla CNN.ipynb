{
  "cells": [
    {
      "cell_type": "code",
      "execution_count": null,
      "metadata": {
        "colab": {
          "base_uri": "https://localhost:8080/"
        },
        "id": "QLqSs1OQREOP",
        "outputId": "d6f21ac8-e5cb-441b-98c2-6af552743a68"
      },
      "outputs": [
        {
          "output_type": "stream",
          "name": "stdout",
          "text": [
            "Mounted at /content/drive\n"
          ]
        }
      ],
      "source": [
        "from google.colab import drive\n",
        "drive.mount('/content/drive')"
      ]
    },
    {
      "cell_type": "code",
      "execution_count": null,
      "metadata": {
        "id": "_D_PHUn7dCca"
      },
      "outputs": [],
      "source": [
        "import os\n",
        "from keras.models import Sequential\n",
        "from keras.layers import Dense, Dropout, Activation, Flatten, Conv2D, MaxPooling2D\n",
        "from sklearn.model_selection import train_test_split\n",
        "import numpy as np\n",
        "from os import listdir\n",
        "from skimage import io\n",
        "##from scipy.misc import imresize\n",
        "import keras\n",
        "#from keras.optimizer_v1 import Adam\n",
        "from tensorflow.keras.optimizers import Adam\n",
        "import nibabel as nib\n",
        "import matplotlib.pyplot as plt\n",
        "import pandas as pd\n",
        "from skimage.transform import resize \n",
        "from keras.utils import np_utils"
      ]
    },
    {
      "cell_type": "markdown",
      "metadata": {
        "id": "DJI5SOf_ppJZ"
      },
      "source": [
        "'basePath' consists the path to he image folder which has another 60 image folders."
      ]
    },
    {
      "cell_type": "code",
      "execution_count": null,
      "metadata": {
        "id": "mzZd6OZbSUvk"
      },
      "outputs": [],
      "source": [
        "basePath='/content/drive/My Drive/TB_Caverns_Data/train_jpgs_folders'       "
      ]
    },
    {
      "cell_type": "code",
      "execution_count": null,
      "metadata": {
        "id": "xAyjcq2znvJS"
      },
      "outputs": [],
      "source": [
        "# y_path is the path to the csv file which has labels for the images. "
      ]
    },
    {
      "cell_type": "markdown",
      "metadata": {
        "id": "Il6b98NbqYg3"
      },
      "source": [
        "'y_path' is the path to the csv file which has labels information. There are 3 different labels assigned for a single image namely *thick_walls, has_calcification, foci_around*. All the images in a single image folder (TRN image folders ) have the same the labels. This csv file, 'new_y_train', has the label infomation for each folder. This program uses ***'thick_walls'***  as the labels for the classification of images. But by changing the y label the classfication can be done for the other two labels as well."
      ]
    },
    {
      "cell_type": "code",
      "execution_count": null,
      "metadata": {
        "id": "a4tSATsIJFdG"
      },
      "outputs": [],
      "source": [
        "y_path='/content/drive/My Drive/new_y_train.csv'"
      ]
    },
    {
      "cell_type": "code",
      "execution_count": null,
      "metadata": {
        "id": "8XW4n82IJZNM"
      },
      "outputs": [],
      "source": [
        "df=pd.read_csv(y_path)\n",
        "df=pd.DataFrame(df)"
      ]
    },
    {
      "cell_type": "code",
      "execution_count": null,
      "metadata": {
        "colab": {
          "base_uri": "https://localhost:8080/"
        },
        "id": "tgQBEIdaYGEm",
        "outputId": "8069366c-7d57-40c6-fb51-676a5131719b"
      },
      "outputs": [
        {
          "output_type": "stream",
          "name": "stdout",
          "text": [
            "        ID  thick_walls  has_calcification  foci_around\n",
            "0   TRN_00            1                  1            1\n",
            "1   TRN_01            1                  1            1\n",
            "2   TRN_02            1                  0            0\n",
            "3   TRN_03            0                  0            1\n",
            "4   TRN_04            1                  1            0\n",
            "5   TRN_05            1                  1            0\n",
            "6   TRN_06            0                  0            1\n",
            "7   TRN_07            1                  1            1\n",
            "8   TRN_08            1                  1            1\n",
            "9   TRN_09            1                  0            1\n",
            "10  TRN_10            1                  1            0\n",
            "11  TRN_11            1                  0            0\n",
            "12  TRN_12            1                  0            1\n",
            "13  TRN_13            1                  0            1\n",
            "14  TRN_14            0                  1            0\n",
            "15  TRN_15            0                  0            1\n",
            "16  TRN_16            0                  0            1\n",
            "17  TRN_17            1                  1            0\n",
            "18  TRN_18            1                  1            0\n",
            "19  TRN_19            1                  0            0\n",
            "20  TRN_20            1                  1            1\n",
            "21  TRN_21            1                  1            0\n",
            "22  TRN_22            1                  1            1\n",
            "23  TRN_23            1                  0            1\n",
            "24  TRN_24            1                  1            1\n",
            "25  TRN_25            1                  1            0\n",
            "26  TRN_26            0                  0            0\n",
            "27  TRN_27            1                  1            1\n",
            "28  TRN_28            1                  0            1\n",
            "29  TRN_29            1                  1            1\n",
            "30  TRN_30            1                  0            0\n",
            "31  TRN_31            1                  0            1\n",
            "32  TRN_32            1                  1            0\n",
            "33  TRN_33            1                  1            0\n",
            "34  TRN_34            1                  1            0\n",
            "35  TRN_35            0                  1            0\n",
            "36  TRN_36            1                  1            1\n",
            "37  TRN_37            1                  1            1\n",
            "38  TRN_38            0                  1            0\n",
            "39  TRN_39            1                  0            1\n",
            "40  TRN_40            1                  1            1\n",
            "41  TRN_41            1                  0            1\n",
            "42  TRN_42            1                  1            0\n",
            "43  TRN_43            1                  1            0\n",
            "44  TRN_44            0                  1            0\n",
            "45  TRN_45            0                  0            0\n",
            "46  TRN_46            1                  0            0\n",
            "47  TRN_47            1                  0            0\n",
            "48  TRN_48            1                  0            1\n",
            "49  TRN_49            0                  0            0\n",
            "50  TRN_50            1                  1            1\n",
            "51  TRN_51            1                  0            1\n",
            "52  TRN_52            1                  1            0\n",
            "53  TRN_53            1                  1            0\n",
            "54  TRN_54            1                  0            0\n",
            "55  TRN_55            1                  0            1\n",
            "56  TRN_56            1                  1            0\n",
            "57  TRN_57            1                  1            0\n",
            "58  TRN_58            1                  0            1\n",
            "59  TRN_59            1                  1            1\n"
          ]
        }
      ],
      "source": [
        "df=df[0:60]  \n",
        "print(df)"
      ]
    },
    {
      "cell_type": "code",
      "execution_count": null,
      "metadata": {
        "id": "2e9JSK7x8Q-3"
      },
      "outputs": [],
      "source": [
        ""
      ]
    },
    {
      "cell_type": "code",
      "execution_count": null,
      "metadata": {
        "id": "u7BFEBvtpnlS"
      },
      "outputs": [],
      "source": [
        "img_folders=os.listdir(basePath)"
      ]
    },
    {
      "cell_type": "code",
      "execution_count": null,
      "metadata": {
        "colab": {
          "base_uri": "https://localhost:8080/"
        },
        "id": "cQtZdzN0ps5-",
        "outputId": "39b4b247-d25e-4f79-a12d-400b08aed0f7"
      },
      "outputs": [
        {
          "output_type": "stream",
          "name": "stdout",
          "text": [
            "['TRN_53', 'TRN_28', 'TRN_29', 'TRN_55', 'TRN_12', 'TRN_56', 'TRN_25', 'TRN_08', 'TRN_27', 'TRN_44', 'TRN_17', 'TRN_06', 'TRN_30', 'TRN_59', 'TRN_45', 'TRN_31', 'TRN_14', 'TRN_33', 'TRN_39', 'TRN_36', 'TRN_38', 'TRN_51', 'TRN_19', 'TRN_47', 'TRN_49', 'TRN_26', 'TRN_07', 'TRN_41', 'TRN_23', 'TRN_58', 'TRN_21', 'TRN_18', 'TRN_42', 'TRN_52', 'TRN_50', 'TRN_10', 'TRN_15', 'TRN_43', 'TRN_40', 'TRN_32', 'TRN_54', 'TRN_20', 'TRN_04', 'TRN_13', 'TRN_09', 'TRN_05', 'TRN_22', 'TRN_34', 'TRN_46', 'TRN_03', 'TRN_35', 'TRN_48', 'TRN_37', 'TRN_11', 'TRN_57', 'TRN_24', 'TRN_00', 'TRN_01', 'TRN_16', 'TRN_02']\n"
          ]
        }
      ],
      "source": [
        "print(img_folders)"
      ]
    },
    {
      "cell_type": "code",
      "execution_count": null,
      "metadata": {
        "colab": {
          "base_uri": "https://localhost:8080/"
        },
        "id": "55M9Mp29Fkg6",
        "outputId": "d7344529-61a8-430a-e398-99bb646cb1d7"
      },
      "outputs": [
        {
          "output_type": "stream",
          "name": "stdout",
          "text": [
            "['TRN_00', 'TRN_01', 'TRN_02', 'TRN_03', 'TRN_04', 'TRN_05', 'TRN_06', 'TRN_07', 'TRN_08', 'TRN_09', 'TRN_10', 'TRN_11', 'TRN_12', 'TRN_13', 'TRN_14', 'TRN_15', 'TRN_16', 'TRN_17', 'TRN_18', 'TRN_19', 'TRN_20', 'TRN_21', 'TRN_22', 'TRN_23', 'TRN_24', 'TRN_25', 'TRN_26', 'TRN_27', 'TRN_28', 'TRN_29', 'TRN_30', 'TRN_31', 'TRN_32', 'TRN_33', 'TRN_34', 'TRN_35', 'TRN_36', 'TRN_37', 'TRN_38', 'TRN_39', 'TRN_40', 'TRN_41', 'TRN_42', 'TRN_43', 'TRN_44', 'TRN_45', 'TRN_46', 'TRN_47', 'TRN_48', 'TRN_49', 'TRN_50', 'TRN_51', 'TRN_52', 'TRN_53', 'TRN_54', 'TRN_55', 'TRN_56', 'TRN_57', 'TRN_58', 'TRN_59']\n"
          ]
        }
      ],
      "source": [
        "img_folders.sort()\n",
        "print(img_folders)"
      ]
    },
    {
      "cell_type": "code",
      "execution_count": null,
      "metadata": {
        "colab": {
          "base_uri": "https://localhost:8080/"
        },
        "id": "akkr-syDqmK5",
        "outputId": "65e38630-c9c9-4156-bfc5-e3833d64b821"
      },
      "outputs": [
        {
          "output_type": "stream",
          "name": "stdout",
          "text": [
            "60\n"
          ]
        }
      ],
      "source": [
        "print(len(img_folders))"
      ]
    },
    {
      "cell_type": "markdown",
      "metadata": {
        "id": "peV40mW4wku2"
      },
      "source": [
        "TRN are the image folder names. There are 60 image folders. "
      ]
    },
    {
      "cell_type": "code",
      "execution_count": null,
      "metadata": {
        "id": "-XZBkh1AFgbz"
      },
      "outputs": [],
      "source": [
        "img_size=64\n",
        "TRN_start=0 # Starting TRN folder \n",
        "TRN_end=60  # Ending TRN folder\n",
        "batch_size=50\n",
        "epochs=20"
      ]
    },
    {
      "cell_type": "code",
      "execution_count": null,
      "metadata": {
        "id": "V5WmuLUBtOg4"
      },
      "outputs": [],
      "source": [
        "img_folders=img_folders[TRN_start:TRN_end]"
      ]
    },
    {
      "cell_type": "code",
      "execution_count": null,
      "metadata": {
        "colab": {
          "base_uri": "https://localhost:8080/"
        },
        "id": "2f8NBkP9ts20",
        "outputId": "aedaf8d7-e5d4-4fbd-c5ef-345ba9a966d9"
      },
      "outputs": [
        {
          "output_type": "stream",
          "name": "stdout",
          "text": [
            "60\n"
          ]
        }
      ],
      "source": [
        "print(len(img_folders))"
      ]
    },
    {
      "cell_type": "code",
      "execution_count": null,
      "metadata": {
        "id": "EqSObC1TstvW"
      },
      "outputs": [],
      "source": [
        "a=0\n",
        "image_set=[]\n",
        "for i in img_folders:\n",
        "  for j in os.listdir(os.path.join(basePath,i)):\n",
        "    #img_len=len(os.listdir(os.path.join(basePath,i)))\n",
        "    image=io.imread(basePath+'/'+i+'/'+j)\n",
        "    image_set.append(resize(image,(img_size,img_size,3)))\n",
        "    #image_set.append(image)\n",
        "    a=a+1\n",
        "    #print(j)\n",
        "    #print(i)\n",
        "    #a+=1\n",
        "  \n",
        "\n",
        "#print(image)"
      ]
    },
    {
      "cell_type": "code",
      "execution_count": null,
      "metadata": {
        "id": "YqL3HiYpxeer"
      },
      "outputs": [],
      "source": [
        "# Selecting TRN image folders\n",
        "df1=df.iloc[TRN_start:TRN_end,1:] "
      ]
    },
    {
      "cell_type": "code",
      "execution_count": null,
      "metadata": {
        "colab": {
          "base_uri": "https://localhost:8080/"
        },
        "id": "bZkDRmEhyb6E",
        "outputId": "a587df84-0059-4088-d7ae-25d02530ce97"
      },
      "outputs": [
        {
          "output_type": "stream",
          "name": "stdout",
          "text": [
            "    thick_walls  has_calcification  foci_around\n",
            "0             1                  1            1\n",
            "1             1                  1            1\n",
            "2             1                  0            0\n",
            "3             0                  0            1\n",
            "4             1                  1            0\n",
            "5             1                  1            0\n",
            "6             0                  0            1\n",
            "7             1                  1            1\n",
            "8             1                  1            1\n",
            "9             1                  0            1\n",
            "10            1                  1            0\n",
            "11            1                  0            0\n",
            "12            1                  0            1\n",
            "13            1                  0            1\n",
            "14            0                  1            0\n",
            "15            0                  0            1\n",
            "16            0                  0            1\n",
            "17            1                  1            0\n",
            "18            1                  1            0\n",
            "19            1                  0            0\n",
            "20            1                  1            1\n",
            "21            1                  1            0\n",
            "22            1                  1            1\n",
            "23            1                  0            1\n",
            "24            1                  1            1\n",
            "25            1                  1            0\n",
            "26            0                  0            0\n",
            "27            1                  1            1\n",
            "28            1                  0            1\n",
            "29            1                  1            1\n",
            "30            1                  0            0\n",
            "31            1                  0            1\n",
            "32            1                  1            0\n",
            "33            1                  1            0\n",
            "34            1                  1            0\n",
            "35            0                  1            0\n",
            "36            1                  1            1\n",
            "37            1                  1            1\n",
            "38            0                  1            0\n",
            "39            1                  0            1\n",
            "40            1                  1            1\n",
            "41            1                  0            1\n",
            "42            1                  1            0\n",
            "43            1                  1            0\n",
            "44            0                  1            0\n",
            "45            0                  0            0\n",
            "46            1                  0            0\n",
            "47            1                  0            0\n",
            "48            1                  0            1\n",
            "49            0                  0            0\n",
            "50            1                  1            1\n",
            "51            1                  0            1\n",
            "52            1                  1            0\n",
            "53            1                  1            0\n",
            "54            1                  0            0\n",
            "55            1                  0            1\n",
            "56            1                  1            0\n",
            "57            1                  1            0\n",
            "58            1                  0            1\n",
            "59            1                  1            1\n"
          ]
        }
      ],
      "source": [
        "print(df1)"
      ]
    },
    {
      "cell_type": "markdown",
      "metadata": {
        "id": "4GloobuU7J-X"
      },
      "source": [
        "From the label information of the TRN image folders the labels for each image has to be created. "
      ]
    },
    {
      "cell_type": "code",
      "execution_count": null,
      "metadata": {
        "id": "QRhgh1NQqCbS"
      },
      "outputs": [],
      "source": [
        "k=0\n",
        "dff=[]\n",
        "df2=pd.DataFrame(columns=('thick_walls','has_calcification','foci_around'))\n",
        "result=[]\n",
        "for i in img_folders:\n",
        "  img_len=len(os.listdir(os.path.join(basePath,i)))\n",
        "  #print(i)\n",
        "  #print(img_len)\n",
        "  #print(k)\n",
        "  #print(df1.loc[k])\n",
        "  a=[df1.iloc[k]]*img_len\n",
        "  a=pd.DataFrame(a)\n",
        "\n",
        "  df2=pd.concat([df2,a])\n",
        "  \n",
        "  k=k+1\n"
      ]
    },
    {
      "cell_type": "code",
      "execution_count": null,
      "metadata": {
        "colab": {
          "base_uri": "https://localhost:8080/"
        },
        "id": "D7HpMnu5F1km",
        "outputId": "620b5260-78b6-4433-e4e3-0fc3ec1acb32"
      },
      "outputs": [
        {
          "output_type": "execute_result",
          "data": {
            "text/plain": [
              "18848"
            ]
          },
          "metadata": {},
          "execution_count": 19
        }
      ],
      "source": [
        "#a['thick_walls']\n",
        "\n",
        "len(df2)"
      ]
    },
    {
      "cell_type": "markdown",
      "metadata": {
        "id": "4kCCB9vV7ygS"
      },
      "source": [
        "df2 datadrame contains the labels for all the images considered."
      ]
    },
    {
      "cell_type": "code",
      "execution_count": null,
      "metadata": {
        "colab": {
          "base_uri": "https://localhost:8080/"
        },
        "id": "aunoRMvT4xJV",
        "outputId": "ed6be6ec-0ca3-4325-ce81-5144d6bbc628"
      },
      "outputs": [
        {
          "output_type": "stream",
          "name": "stdout",
          "text": [
            "   thick_walls has_calcification foci_around\n",
            "0            1                 1           1\n",
            "0            1                 1           1\n",
            "0            1                 1           1\n",
            "0            1                 1           1\n",
            "0            1                 1           1\n",
            "..         ...               ...         ...\n",
            "59           1                 1           1\n",
            "59           1                 1           1\n",
            "59           1                 1           1\n",
            "59           1                 1           1\n",
            "59           1                 1           1\n",
            "\n",
            "[18848 rows x 3 columns]\n"
          ]
        }
      ],
      "source": [
        "print(df2) "
      ]
    },
    {
      "cell_type": "code",
      "execution_count": null,
      "metadata": {
        "id": "DPsN_tajGEZa"
      },
      "outputs": [],
      "source": [
        "#df2['thick_walls']"
      ]
    },
    {
      "cell_type": "code",
      "execution_count": null,
      "metadata": {
        "id": "LOVOrDjr8X4t"
      },
      "outputs": [],
      "source": [
        "y_thickwalls=df2['thick_walls']\n",
        "y_hascalcification=df2['has_calcification']\n",
        "y_fociaround=df2['foci_around']\n",
        "\n"
      ]
    },
    {
      "cell_type": "code",
      "execution_count": null,
      "metadata": {
        "id": "hqYQ3no3-MjF"
      },
      "outputs": [],
      "source": [
        "y_thickwalls=np.array(y_thickwalls)\n",
        "y_hascalcification=np.array(y_hascalcification)\n",
        "y_fociaround=np.array(y_fociaround)"
      ]
    },
    {
      "cell_type": "code",
      "execution_count": null,
      "metadata": {
        "colab": {
          "base_uri": "https://localhost:8080/"
        },
        "id": "n3nROWKOTZI5",
        "outputId": "58b4ca63-cbea-4d1e-9af5-4d45a0c229f2"
      },
      "outputs": [
        {
          "output_type": "execute_result",
          "data": {
            "text/plain": [
              "list"
            ]
          },
          "metadata": {},
          "execution_count": 24
        }
      ],
      "source": [
        "#x=np.asarray(image_set).astype('float32')\n",
        "type(image_set)\n",
        "x=image_set\n",
        "type(image_set)"
      ]
    },
    {
      "cell_type": "code",
      "execution_count": null,
      "metadata": {
        "id": "45emwSdlAnuq"
      },
      "outputs": [],
      "source": [
        "x=np.array(x)"
      ]
    },
    {
      "cell_type": "code",
      "execution_count": null,
      "metadata": {
        "colab": {
          "base_uri": "https://localhost:8080/"
        },
        "id": "eFe5VNweDvIM",
        "outputId": "4758b4c9-86ed-4d4b-cf9e-51ec5c52337f"
      },
      "outputs": [
        {
          "output_type": "stream",
          "name": "stdout",
          "text": [
            "<class 'numpy.ndarray'>\n"
          ]
        }
      ],
      "source": [
        "#x=x.tolist()\n",
        "print(type(x))\n"
      ]
    },
    {
      "cell_type": "code",
      "execution_count": null,
      "metadata": {
        "colab": {
          "base_uri": "https://localhost:8080/"
        },
        "id": "QRs8MIZEuAPs",
        "outputId": "0d869ca0-e3db-4780-fcc0-89461d59deb9"
      },
      "outputs": [
        {
          "output_type": "stream",
          "name": "stdout",
          "text": [
            "18848\n"
          ]
        }
      ],
      "source": [
        "print(len(x))"
      ]
    },
    {
      "cell_type": "code",
      "execution_count": null,
      "metadata": {
        "id": "Ycx2MFg6wNyy"
      },
      "outputs": [],
      "source": [
        "x=np.asarray(x)"
      ]
    },
    {
      "cell_type": "code",
      "execution_count": null,
      "metadata": {
        "colab": {
          "base_uri": "https://localhost:8080/"
        },
        "id": "6Y2r8Ug_vlkh",
        "outputId": "3aa56bba-524c-40c0-9c50-161c91ad24cc"
      },
      "outputs": [
        {
          "output_type": "stream",
          "name": "stdout",
          "text": [
            "<class 'numpy.ndarray'>\n"
          ]
        }
      ],
      "source": [
        "print(type(x))"
      ]
    },
    {
      "cell_type": "code",
      "execution_count": null,
      "metadata": {
        "id": "o4hDzWsuBm-b"
      },
      "outputs": [],
      "source": [
        "y_thickwalls=y_thickwalls.astype('float32')\n",
        "y_hascalcification=y_hascalcification.astype('float32')\n",
        "y_fociaround=y_fociaround.astype('float32')"
      ]
    },
    {
      "cell_type": "code",
      "execution_count": null,
      "metadata": {
        "colab": {
          "base_uri": "https://localhost:8080/"
        },
        "id": "raMxJafAkblh",
        "outputId": "6210d0dc-6b99-4aff-dc00-b65d96e1306a"
      },
      "outputs": [
        {
          "output_type": "stream",
          "name": "stdout",
          "text": [
            "18848\n",
            "18848\n",
            "18848\n"
          ]
        }
      ],
      "source": [
        "print(len(y_thickwalls))\n",
        "print(len(y_hascalcification))\n",
        "print(len(y_fociaround))\n"
      ]
    },
    {
      "cell_type": "code",
      "execution_count": null,
      "metadata": {
        "id": "Eu2RsY9KRbRr"
      },
      "outputs": [],
      "source": [
        "train_x, test_x, train_y, test_y = train_test_split(x, y_thickwalls, test_size=0.2, random_state=30)"
      ]
    },
    {
      "cell_type": "code",
      "execution_count": null,
      "metadata": {
        "id": "ZYtsxGFeRmSE"
      },
      "outputs": [],
      "source": [
        "model = Sequential()\n",
        "\n",
        "model.add(Conv2D(32, (3,3), input_shape=(img_size, img_size, 3)))    \n",
        "model.add(Activation('relu'))\n",
        "model.add(MaxPooling2D(pool_size=(2, 2)))\n",
        "\n",
        "model.add(Conv2D(64, (3,3)))    \n",
        "model.add(Activation('relu'))\n",
        "#model.add(MaxPooling2D(pool_size=(2, 2)))\n",
        "\n",
        "model.add(Conv2D(128, (3,3)))    \n",
        "model.add(Activation('relu'))\n",
        "#model.add(MaxPooling2D(pool_size=(2, 2)))\n",
        "\n",
        "model.add(Conv2D(256, (3,3)))\n",
        "model.add(Activation('relu'))\n",
        "\n",
        "model.add(Conv2D(256, (3,3)))\n",
        "model.add(Activation('relu'))\n",
        "model.add(MaxPooling2D(pool_size=(2,2)))\n",
        "\n",
        "model.add(Conv2D(256, (5,5)))\n",
        "model.add(Activation('relu'))\n",
        "model.add(MaxPooling2D(pool_size=(2,2)))\n",
        "\n",
        "model.add(Flatten())\n",
        "model.add(Dropout(0.3))\n",
        "model.add(Dense(1))\n",
        "model.add(Activation('sigmoid'))\n",
        "\n",
        "adamop=Adam(learning_rate=0.01)"
      ]
    },
    {
      "cell_type": "code",
      "execution_count": null,
      "metadata": {
        "id": "qqHN5sVpkLUk"
      },
      "outputs": [],
      "source": [
        "model.compile(loss='binary_crossentropy', optimizer=adamop, metrics=['accuracy'])"
      ]
    },
    {
      "cell_type": "code",
      "execution_count": null,
      "metadata": {
        "colab": {
          "base_uri": "https://localhost:8080/"
        },
        "id": "-wjP5qh4VywB",
        "outputId": "979d021a-c1df-4b0b-a8e3-0c3db0ed2a97"
      },
      "outputs": [
        {
          "output_type": "stream",
          "name": "stdout",
          "text": [
            "Model: \"sequential\"\n",
            "_________________________________________________________________\n",
            " Layer (type)                Output Shape              Param #   \n",
            "=================================================================\n",
            " conv2d (Conv2D)             (None, 62, 62, 32)        896       \n",
            "                                                                 \n",
            " activation (Activation)     (None, 62, 62, 32)        0         \n",
            "                                                                 \n",
            " max_pooling2d (MaxPooling2D  (None, 31, 31, 32)       0         \n",
            " )                                                               \n",
            "                                                                 \n",
            " conv2d_1 (Conv2D)           (None, 29, 29, 64)        18496     \n",
            "                                                                 \n",
            " activation_1 (Activation)   (None, 29, 29, 64)        0         \n",
            "                                                                 \n",
            " conv2d_2 (Conv2D)           (None, 27, 27, 128)       73856     \n",
            "                                                                 \n",
            " activation_2 (Activation)   (None, 27, 27, 128)       0         \n",
            "                                                                 \n",
            " conv2d_3 (Conv2D)           (None, 25, 25, 256)       295168    \n",
            "                                                                 \n",
            " activation_3 (Activation)   (None, 25, 25, 256)       0         \n",
            "                                                                 \n",
            " conv2d_4 (Conv2D)           (None, 23, 23, 256)       590080    \n",
            "                                                                 \n",
            " activation_4 (Activation)   (None, 23, 23, 256)       0         \n",
            "                                                                 \n",
            " max_pooling2d_1 (MaxPooling  (None, 11, 11, 256)      0         \n",
            " 2D)                                                             \n",
            "                                                                 \n",
            " conv2d_5 (Conv2D)           (None, 7, 7, 256)         1638656   \n",
            "                                                                 \n",
            " activation_5 (Activation)   (None, 7, 7, 256)         0         \n",
            "                                                                 \n",
            " max_pooling2d_2 (MaxPooling  (None, 3, 3, 256)        0         \n",
            " 2D)                                                             \n",
            "                                                                 \n",
            " flatten (Flatten)           (None, 2304)              0         \n",
            "                                                                 \n",
            " dropout (Dropout)           (None, 2304)              0         \n",
            "                                                                 \n",
            " dense (Dense)               (None, 1)                 2305      \n",
            "                                                                 \n",
            " activation_6 (Activation)   (None, 1)                 0         \n",
            "                                                                 \n",
            "=================================================================\n",
            "Total params: 2,619,457\n",
            "Trainable params: 2,619,457\n",
            "Non-trainable params: 0\n",
            "_________________________________________________________________\n"
          ]
        }
      ],
      "source": [
        "model.summary()"
      ]
    },
    {
      "cell_type": "code",
      "execution_count": null,
      "metadata": {
        "colab": {
          "base_uri": "https://localhost:8080/"
        },
        "id": "ZzkHhMAyktm4",
        "outputId": "a8b05cbe-d3b0-4937-95a1-ed2a45a1bf0a"
      },
      "outputs": [
        {
          "output_type": "stream",
          "name": "stdout",
          "text": [
            "Epoch 1/20\n",
            "302/302 [==============================] - 39s 92ms/step - loss: 8.7136 - accuracy: 0.8520 - val_loss: 0.3896 - val_accuracy: 0.8692\n",
            "Epoch 2/20\n",
            "302/302 [==============================] - 26s 87ms/step - loss: 0.4172 - accuracy: 0.8557 - val_loss: 0.3886 - val_accuracy: 0.8692\n",
            "Epoch 3/20\n",
            "302/302 [==============================] - 26s 87ms/step - loss: 0.4169 - accuracy: 0.8557 - val_loss: 0.3898 - val_accuracy: 0.8692\n",
            "Epoch 4/20\n",
            "302/302 [==============================] - 27s 89ms/step - loss: 0.4160 - accuracy: 0.8557 - val_loss: 0.3921 - val_accuracy: 0.8692\n",
            "Epoch 5/20\n",
            "302/302 [==============================] - 26s 87ms/step - loss: 0.4166 - accuracy: 0.8557 - val_loss: 0.3907 - val_accuracy: 0.8692\n",
            "Epoch 6/20\n",
            "302/302 [==============================] - 26s 87ms/step - loss: 0.4154 - accuracy: 0.8557 - val_loss: 0.3988 - val_accuracy: 0.8692\n",
            "Epoch 7/20\n",
            "302/302 [==============================] - 26s 87ms/step - loss: 0.4148 - accuracy: 0.8557 - val_loss: 0.3918 - val_accuracy: 0.8692\n",
            "Epoch 8/20\n",
            "302/302 [==============================] - 26s 87ms/step - loss: 0.4139 - accuracy: 0.8557 - val_loss: 0.3912 - val_accuracy: 0.8692\n",
            "Epoch 9/20\n",
            "302/302 [==============================] - 26s 87ms/step - loss: 0.4139 - accuracy: 0.8557 - val_loss: 0.3922 - val_accuracy: 0.8692\n",
            "Epoch 10/20\n",
            "302/302 [==============================] - 26s 87ms/step - loss: 0.4141 - accuracy: 0.8557 - val_loss: 0.3905 - val_accuracy: 0.8692\n",
            "Epoch 11/20\n",
            "302/302 [==============================] - 26s 87ms/step - loss: 0.4136 - accuracy: 0.8557 - val_loss: 0.3886 - val_accuracy: 0.8692\n",
            "Epoch 12/20\n",
            "302/302 [==============================] - 26s 87ms/step - loss: 0.4132 - accuracy: 0.8557 - val_loss: 0.3885 - val_accuracy: 0.8692\n",
            "Epoch 13/20\n",
            "302/302 [==============================] - 27s 88ms/step - loss: 0.4130 - accuracy: 0.8557 - val_loss: 0.3884 - val_accuracy: 0.8692\n",
            "Epoch 14/20\n",
            "302/302 [==============================] - 26s 88ms/step - loss: 0.4130 - accuracy: 0.8557 - val_loss: 0.3886 - val_accuracy: 0.8692\n",
            "Epoch 15/20\n",
            "302/302 [==============================] - 26s 87ms/step - loss: 0.4128 - accuracy: 0.8557 - val_loss: 0.3888 - val_accuracy: 0.8692\n",
            "Epoch 16/20\n",
            "302/302 [==============================] - 26s 87ms/step - loss: 0.4128 - accuracy: 0.8557 - val_loss: 0.3886 - val_accuracy: 0.8692\n",
            "Epoch 17/20\n",
            "302/302 [==============================] - 27s 88ms/step - loss: 0.4129 - accuracy: 0.8557 - val_loss: 0.3892 - val_accuracy: 0.8692\n",
            "Epoch 18/20\n",
            "302/302 [==============================] - 27s 88ms/step - loss: 0.4129 - accuracy: 0.8557 - val_loss: 0.3889 - val_accuracy: 0.8692\n",
            "Epoch 19/20\n",
            "302/302 [==============================] - 26s 88ms/step - loss: 0.4128 - accuracy: 0.8557 - val_loss: 0.3881 - val_accuracy: 0.8692\n",
            "Epoch 20/20\n",
            "302/302 [==============================] - 26s 87ms/step - loss: 0.4129 - accuracy: 0.8557 - val_loss: 0.3893 - val_accuracy: 0.8692\n"
          ]
        }
      ],
      "source": [
        "h=model.fit(train_x, train_y, batch_size=batch_size, epochs=epochs, shuffle=True, validation_data=(test_x, test_y))"
      ]
    },
    {
      "cell_type": "code",
      "execution_count": null,
      "metadata": {
        "id": "nnZyvKc0X-Tw"
      },
      "outputs": [],
      "source": [
        "acc=[0]+h.history['accuracy']\n",
        "loss=[0]+h.history['loss']"
      ]
    },
    {
      "cell_type": "code",
      "source": [
        "#score=model.evaluate(test_x, test_y)\n",
        "#print(\"Test Accuracy\", score[1])\n",
        "#print(\"Test loss\", score[0])"
      ],
      "metadata": {
        "id": "fTI2rL7SAAkT"
      },
      "execution_count": null,
      "outputs": []
    },
    {
      "cell_type": "code",
      "execution_count": null,
      "metadata": {
        "id": "7aeBNknLaLQd",
        "colab": {
          "base_uri": "https://localhost:8080/",
          "height": 279
        },
        "outputId": "742833a9-6b6a-431e-e377-9acb4a142ab3"
      },
      "outputs": [
        {
          "output_type": "display_data",
          "data": {
            "text/plain": [
              "<Figure size 432x288 with 1 Axes>"
            ],
            "image/png": "[encoded data removed]"
          },
          "metadata": {
            "needs_background": "light"
          }
        }
      ],
      "source": [
        "plt.plot(acc, label='Testing Accuracy')\n",
        "plt.xlabel('Epochs')\n",
        "plt.ylabel('Accuracy')\n",
        "plt.show()"
      ]
    },
    {
      "cell_type": "code",
      "source": [
        ""
      ],
      "metadata": {
        "id": "wresOG-2-uzf"
      },
      "execution_count": null,
      "outputs": []
    }
  ],
  "metadata": {
    "colab": {
      "name": "AI_project_1.ipynb",
      "provenance": [],
      "toc_visible": true
    },
    "kernelspec": {
      "display_name": "Python 3",
      "name": "python3"
    },
    "language_info": {
      "name": "python"
    }
  },
  "nbformat": 4,
  "nbformat_minor": 0
}